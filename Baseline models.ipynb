{
 "cells": [
  {
   "cell_type": "code",
   "execution_count": 1,
   "metadata": {},
   "outputs": [],
   "source": [
    "import numpy as np\n",
    "import pandas as pd\n",
    "import seaborn as sns\n",
    "import matplotlib.pyplot as plt"
   ]
  },
  {
   "cell_type": "code",
   "execution_count": 2,
   "metadata": {},
   "outputs": [],
   "source": [
    "from sklearn.model_selection import train_test_split\n",
    "from mlxtend.feature_selection import SequentialFeatureSelector as SFS"
   ]
  },
  {
   "cell_type": "code",
   "execution_count": 3,
   "metadata": {},
   "outputs": [],
   "source": [
    "df = pd.read_csv(\"WeatherDataTest.csv\")\n",
    "# df.drop([\"longitude\",\"latitude\", \"WaveHeight\", \"WavePeriod\", \"MeanWaveDirection\", \"Hmax\",\"QC_Flag\"],inplace = True, axis = 1)"
   ]
  },
  {
   "cell_type": "code",
   "execution_count": 4,
   "metadata": {},
   "outputs": [
    {
     "data": {
      "text/plain": [
       "(34474, 11)"
      ]
     },
     "execution_count": 4,
     "metadata": {},
     "output_type": "execute_result"
    }
   ],
   "source": [
    "# df = df.iloc[331371:]\n",
    "# df = df.drop([\"time\"], axis = 1)\n",
    "# df = df.drop([\"station_id\"], axis = 1)\n",
    "df = df.dropna()\n",
    "df.shape"
   ]
  },
  {
   "cell_type": "code",
   "execution_count": 5,
   "metadata": {},
   "outputs": [
    {
     "data": {
      "text/html": [
       "<div>\n",
       "<style scoped>\n",
       "    .dataframe tbody tr th:only-of-type {\n",
       "        vertical-align: middle;\n",
       "    }\n",
       "\n",
       "    .dataframe tbody tr th {\n",
       "        vertical-align: top;\n",
       "    }\n",
       "\n",
       "    .dataframe thead th {\n",
       "        text-align: right;\n",
       "    }\n",
       "</style>\n",
       "<table border=\"1\" class=\"dataframe\">\n",
       "  <thead>\n",
       "    <tr style=\"text-align: right;\">\n",
       "      <th></th>\n",
       "      <th>station_id</th>\n",
       "      <th>time</th>\n",
       "      <th>AtmosphericPressure</th>\n",
       "      <th>WindDirection</th>\n",
       "      <th>WindSpeed</th>\n",
       "      <th>Gust</th>\n",
       "      <th>WaveHeight</th>\n",
       "      <th>WavePeriod</th>\n",
       "      <th>AirTemperature</th>\n",
       "      <th>SeaTemperature</th>\n",
       "      <th>RelativeHumidity</th>\n",
       "    </tr>\n",
       "  </thead>\n",
       "  <tbody>\n",
       "    <tr>\n",
       "      <th>0</th>\n",
       "      <td>M3</td>\n",
       "      <td>2010-06-10T14:00:00Z</td>\n",
       "      <td>1014.2</td>\n",
       "      <td>360.0</td>\n",
       "      <td>15.000</td>\n",
       "      <td>20.000</td>\n",
       "      <td>2.000</td>\n",
       "      <td>5.000</td>\n",
       "      <td>14.900</td>\n",
       "      <td>14.80</td>\n",
       "      <td>84.000</td>\n",
       "    </tr>\n",
       "    <tr>\n",
       "      <th>2</th>\n",
       "      <td>M6</td>\n",
       "      <td>2013-07-08T15:00:00Z</td>\n",
       "      <td>1033.1</td>\n",
       "      <td>190.0</td>\n",
       "      <td>8.000</td>\n",
       "      <td>12.000</td>\n",
       "      <td>1.200</td>\n",
       "      <td>6.000</td>\n",
       "      <td>13.600</td>\n",
       "      <td>14.20</td>\n",
       "      <td>95.000</td>\n",
       "    </tr>\n",
       "    <tr>\n",
       "      <th>4</th>\n",
       "      <td>M6</td>\n",
       "      <td>2017-07-07T17:00:00Z</td>\n",
       "      <td>1018.9</td>\n",
       "      <td>330.0</td>\n",
       "      <td>3.000</td>\n",
       "      <td>6.000</td>\n",
       "      <td>2.000</td>\n",
       "      <td>8.000</td>\n",
       "      <td>14.200</td>\n",
       "      <td>14.70</td>\n",
       "      <td>68.000</td>\n",
       "    </tr>\n",
       "    <tr>\n",
       "      <th>8</th>\n",
       "      <td>M5</td>\n",
       "      <td>2019-09-22T22:00:00Z</td>\n",
       "      <td>1005.2</td>\n",
       "      <td>265.0</td>\n",
       "      <td>15.369</td>\n",
       "      <td>19.734</td>\n",
       "      <td>1.719</td>\n",
       "      <td>5.391</td>\n",
       "      <td>15.635</td>\n",
       "      <td>15.82</td>\n",
       "      <td>78.906</td>\n",
       "    </tr>\n",
       "    <tr>\n",
       "      <th>11</th>\n",
       "      <td>M6</td>\n",
       "      <td>2012-02-16T07:00:00Z</td>\n",
       "      <td>1032.4</td>\n",
       "      <td>240.0</td>\n",
       "      <td>18.000</td>\n",
       "      <td>25.000</td>\n",
       "      <td>3.000</td>\n",
       "      <td>7.000</td>\n",
       "      <td>10.900</td>\n",
       "      <td>10.70</td>\n",
       "      <td>88.000</td>\n",
       "    </tr>\n",
       "  </tbody>\n",
       "</table>\n",
       "</div>"
      ],
      "text/plain": [
       "   station_id                  time  AtmosphericPressure  WindDirection  \\\n",
       "0          M3  2010-06-10T14:00:00Z               1014.2          360.0   \n",
       "2          M6  2013-07-08T15:00:00Z               1033.1          190.0   \n",
       "4          M6  2017-07-07T17:00:00Z               1018.9          330.0   \n",
       "8          M5  2019-09-22T22:00:00Z               1005.2          265.0   \n",
       "11         M6  2012-02-16T07:00:00Z               1032.4          240.0   \n",
       "\n",
       "    WindSpeed    Gust  WaveHeight  WavePeriod  AirTemperature  SeaTemperature  \\\n",
       "0      15.000  20.000       2.000       5.000          14.900           14.80   \n",
       "2       8.000  12.000       1.200       6.000          13.600           14.20   \n",
       "4       3.000   6.000       2.000       8.000          14.200           14.70   \n",
       "8      15.369  19.734       1.719       5.391          15.635           15.82   \n",
       "11     18.000  25.000       3.000       7.000          10.900           10.70   \n",
       "\n",
       "    RelativeHumidity  \n",
       "0             84.000  \n",
       "2             95.000  \n",
       "4             68.000  \n",
       "8             78.906  \n",
       "11            88.000  "
      ]
     },
     "execution_count": 5,
     "metadata": {},
     "output_type": "execute_result"
    }
   ],
   "source": [
    "df.head()"
   ]
  },
  {
   "cell_type": "code",
   "execution_count": 6,
   "metadata": {},
   "outputs": [],
   "source": [
    "df = df.drop([\"time\"], axis = 1)\n",
    "df = df.drop([\"station_id\"], axis = 1)"
   ]
  },
  {
   "cell_type": "code",
   "execution_count": 7,
   "metadata": {},
   "outputs": [],
   "source": [
    "X = df.iloc[:,:-1]\n",
    "y = df.iloc[:,-1]"
   ]
  },
  {
   "cell_type": "code",
   "execution_count": 8,
   "metadata": {},
   "outputs": [
    {
     "data": {
      "text/plain": [
       "AtmosphericPressure    0\n",
       "WindDirection          0\n",
       "WindSpeed              0\n",
       "Gust                   0\n",
       "WaveHeight             0\n",
       "WavePeriod             0\n",
       "AirTemperature         0\n",
       "SeaTemperature         0\n",
       "dtype: int64"
      ]
     },
     "execution_count": 8,
     "metadata": {},
     "output_type": "execute_result"
    }
   ],
   "source": [
    "X.isnull().sum()"
   ]
  },
  {
   "cell_type": "code",
   "execution_count": 9,
   "metadata": {},
   "outputs": [
    {
     "data": {
      "text/plain": [
       "((27579, 8), (6895, 8))"
      ]
     },
     "execution_count": 9,
     "metadata": {},
     "output_type": "execute_result"
    }
   ],
   "source": [
    "X_train, X_test, y_train, y_test = train_test_split(X, y, test_size=0.2, random_state =0)\n",
    "X_train.shape, X_test.shape"
   ]
  },
  {
   "cell_type": "markdown",
   "metadata": {},
   "source": [
    "# Forward Selection"
   ]
  },
  {
   "cell_type": "code",
   "execution_count": 10,
   "metadata": {},
   "outputs": [],
   "source": [
    "from sklearn.linear_model import LinearRegression\n",
    "sfs = SFS(LinearRegression(),\n",
    "          k_features=8,\n",
    "          forward=True,\n",
    "          floating=False,\n",
    "          scoring = 'r2',\n",
    "          cv = 0)"
   ]
  },
  {
   "cell_type": "code",
   "execution_count": 11,
   "metadata": {},
   "outputs": [
    {
     "data": {
      "text/plain": [
       "SequentialFeatureSelector(cv=0, estimator=LinearRegression(), k_features=8,\n",
       "                          scoring='r2')"
      ]
     },
     "execution_count": 11,
     "metadata": {},
     "output_type": "execute_result"
    }
   ],
   "source": [
    "sfs.fit(X,y)"
   ]
  },
  {
   "cell_type": "code",
   "execution_count": 12,
   "metadata": {
    "scrolled": true
   },
   "outputs": [
    {
     "data": {
      "text/plain": [
       "('AtmosphericPressure',\n",
       " 'WindDirection',\n",
       " 'WindSpeed',\n",
       " 'Gust',\n",
       " 'WaveHeight',\n",
       " 'WavePeriod',\n",
       " 'AirTemperature',\n",
       " 'SeaTemperature')"
      ]
     },
     "execution_count": 12,
     "metadata": {},
     "output_type": "execute_result"
    }
   ],
   "source": [
    "sfs.k_feature_names_"
   ]
  },
  {
   "cell_type": "markdown",
   "metadata": {},
   "source": [
    "# Backward selection"
   ]
  },
  {
   "cell_type": "code",
   "execution_count": 13,
   "metadata": {},
   "outputs": [],
   "source": [
    "sfsb = SFS(LinearRegression(),\n",
    "          k_features=8,\n",
    "          forward=False,\n",
    "          floating=False,\n",
    "          scoring = 'r2',\n",
    "          cv = 0)"
   ]
  },
  {
   "cell_type": "code",
   "execution_count": 14,
   "metadata": {},
   "outputs": [
    {
     "data": {
      "text/plain": [
       "SequentialFeatureSelector(cv=0, estimator=LinearRegression(), forward=False,\n",
       "                          k_features=8, scoring='r2')"
      ]
     },
     "execution_count": 14,
     "metadata": {},
     "output_type": "execute_result"
    }
   ],
   "source": [
    "sfsb.fit(X,y)"
   ]
  },
  {
   "cell_type": "code",
   "execution_count": 15,
   "metadata": {},
   "outputs": [
    {
     "data": {
      "text/plain": [
       "('AtmosphericPressure',\n",
       " 'WindDirection',\n",
       " 'WindSpeed',\n",
       " 'Gust',\n",
       " 'WaveHeight',\n",
       " 'WavePeriod',\n",
       " 'AirTemperature',\n",
       " 'SeaTemperature')"
      ]
     },
     "execution_count": 15,
     "metadata": {},
     "output_type": "execute_result"
    }
   ],
   "source": [
    "sfsb.k_feature_names_"
   ]
  },
  {
   "cell_type": "markdown",
   "metadata": {},
   "source": [
    "# Plot"
   ]
  },
  {
   "cell_type": "code",
   "execution_count": 16,
   "metadata": {},
   "outputs": [
    {
     "data": {
      "text/plain": [
       "SequentialFeatureSelector(cv=0, estimator=LinearRegression(), k_features=(3, 7))"
      ]
     },
     "execution_count": 16,
     "metadata": {},
     "output_type": "execute_result"
    }
   ],
   "source": [
    "sfs1 = SFS(LinearRegression(),\n",
    "         k_features=(3,7),\n",
    "         forward=True,\n",
    "         floating=False,\n",
    "         cv=0)\n",
    "sfs1.fit(X, y)"
   ]
  },
  {
   "cell_type": "code",
   "execution_count": 17,
   "metadata": {},
   "outputs": [
    {
     "name": "stderr",
     "output_type": "stream",
     "text": [
      "c:\\users\\chitransh\\appdata\\local\\programs\\python\\python38\\lib\\site-packages\\numpy\\core\\_methods.py:216: RuntimeWarning: Degrees of freedom <= 0 for slice\n",
      "  ret = _var(a, axis=axis, dtype=dtype, out=out, ddof=ddof,\n",
      "c:\\users\\chitransh\\appdata\\local\\programs\\python\\python38\\lib\\site-packages\\numpy\\core\\_methods.py:209: RuntimeWarning: invalid value encountered in double_scalars\n",
      "  ret = ret.dtype.type(ret / rcount)\n"
     ]
    },
    {
     "data": {
      "image/png": "[encoded data removed]",
      "text/plain": [
       "<Figure size 432x288 with 1 Axes>"
      ]
     },
     "metadata": {
      "needs_background": "light"
     },
     "output_type": "display_data"
    }
   ],
   "source": [
    "from mlxtend.plotting import plot_sequential_feature_selection as plot_sfs\n",
    "fig1 = plot_sfs(sfs1.get_metric_dict(), kind='std_dev')\n",
    "plt.title('Sequential Forward Selection (w. StdErr)')\n",
    "plt.grid()\n",
    "plt.show()"
   ]
  },
  {
   "cell_type": "code",
   "execution_count": 18,
   "metadata": {},
   "outputs": [
    {
     "data": {
      "text/plain": [
       "SequentialFeatureSelector(cv=0, estimator=LinearRegression(), forward=False,\n",
       "                          k_features=(3, 7))"
      ]
     },
     "execution_count": 18,
     "metadata": {},
     "output_type": "execute_result"
    }
   ],
   "source": [
    "sfs2 = SFS(LinearRegression(),\n",
    "         k_features=(3,7),\n",
    "         forward=False,\n",
    "         floating=False,\n",
    "         cv=0)\n",
    "sfs2.fit(X, y)"
   ]
  },
  {
   "cell_type": "code",
   "execution_count": 19,
   "metadata": {},
   "outputs": [
    {
     "name": "stderr",
     "output_type": "stream",
     "text": [
      "c:\\users\\chitransh\\appdata\\local\\programs\\python\\python38\\lib\\site-packages\\numpy\\core\\_methods.py:216: RuntimeWarning: Degrees of freedom <= 0 for slice\n",
      "  ret = _var(a, axis=axis, dtype=dtype, out=out, ddof=ddof,\n",
      "c:\\users\\chitransh\\appdata\\local\\programs\\python\\python38\\lib\\site-packages\\numpy\\core\\_methods.py:209: RuntimeWarning: invalid value encountered in double_scalars\n",
      "  ret = ret.dtype.type(ret / rcount)\n"
     ]
    },
    {
     "data": {
      "image/png": "[encoded data removed]",
      "text/plain": [
       "<Figure size 432x288 with 1 Axes>"
      ]
     },
     "metadata": {
      "needs_background": "light"
     },
     "output_type": "display_data"
    }
   ],
   "source": [
    "# from mlxtend.plotting import plot_sequential_feature_selection as plot_sfs\n",
    "fig1 = plot_sfs(sfs2.get_metric_dict(), kind='std_dev')\n",
    "plt.title('Sequential Backward Selection (w. StdErr)')\n",
    "plt.grid()\n",
    "plt.show()"
   ]
  },
  {
   "cell_type": "code",
   "execution_count": 20,
   "metadata": {},
   "outputs": [
    {
     "name": "stderr",
     "output_type": "stream",
     "text": [
      "<ipython-input-20-a1e7eff26117>:2: SettingWithCopyWarning: \n",
      "A value is trying to be set on a copy of a slice from a DataFrame.\n",
      "Try using .loc[row_indexer,col_indexer] = value instead\n",
      "\n",
      "See the caveats in the documentation: https://pandas.pydata.org/pandas-docs/stable/user_guide/indexing.html#returning-a-view-versus-a-copy\n",
      "  X_test[cols] = pd.to_numeric(X_test[cols])\n",
      "<ipython-input-20-a1e7eff26117>:5: SettingWithCopyWarning: \n",
      "A value is trying to be set on a copy of a slice from a DataFrame.\n",
      "Try using .loc[row_indexer,col_indexer] = value instead\n",
      "\n",
      "See the caveats in the documentation: https://pandas.pydata.org/pandas-docs/stable/user_guide/indexing.html#returning-a-view-versus-a-copy\n",
      "  X_train[cols] = pd.to_numeric(X_train[cols])\n"
     ]
    }
   ],
   "source": [
    "for cols in X_test.columns:\n",
    "    X_test[cols] = pd.to_numeric(X_test[cols])\n",
    "\n",
    "for cols in X_train.columns:\n",
    "    X_train[cols] = pd.to_numeric(X_train[cols])"
   ]
  },
  {
   "cell_type": "code",
   "execution_count": 21,
   "metadata": {},
   "outputs": [
    {
     "name": "stdout",
     "output_type": "stream",
     "text": [
      "<class 'pandas.core.frame.DataFrame'>\n",
      "Int64Index: 27579 entries, 69874 to 5934\n",
      "Data columns (total 8 columns):\n",
      " #   Column               Non-Null Count  Dtype  \n",
      "---  ------               --------------  -----  \n",
      " 0   AtmosphericPressure  27579 non-null  float64\n",
      " 1   WindDirection        27579 non-null  float64\n",
      " 2   WindSpeed            27579 non-null  float64\n",
      " 3   Gust                 27579 non-null  float64\n",
      " 4   WaveHeight           27579 non-null  float64\n",
      " 5   WavePeriod           27579 non-null  float64\n",
      " 6   AirTemperature       27579 non-null  float64\n",
      " 7   SeaTemperature       27579 non-null  float64\n",
      "dtypes: float64(8)\n",
      "memory usage: 1.9 MB\n"
     ]
    }
   ],
   "source": [
    "X_train.info()"
   ]
  },
  {
   "cell_type": "code",
   "execution_count": 22,
   "metadata": {},
   "outputs": [
    {
     "data": {
      "text/html": [
       "<div>\n",
       "<style scoped>\n",
       "    .dataframe tbody tr th:only-of-type {\n",
       "        vertical-align: middle;\n",
       "    }\n",
       "\n",
       "    .dataframe tbody tr th {\n",
       "        vertical-align: top;\n",
       "    }\n",
       "\n",
       "    .dataframe thead th {\n",
       "        text-align: right;\n",
       "    }\n",
       "</style>\n",
       "<table border=\"1\" class=\"dataframe\">\n",
       "  <thead>\n",
       "    <tr style=\"text-align: right;\">\n",
       "      <th></th>\n",
       "      <th>AtmosphericPressure</th>\n",
       "      <th>WindDirection</th>\n",
       "      <th>WindSpeed</th>\n",
       "      <th>Gust</th>\n",
       "      <th>WaveHeight</th>\n",
       "      <th>WavePeriod</th>\n",
       "      <th>AirTemperature</th>\n",
       "      <th>SeaTemperature</th>\n",
       "    </tr>\n",
       "  </thead>\n",
       "  <tbody>\n",
       "    <tr>\n",
       "      <th>AtmosphericPressure</th>\n",
       "      <td>1.000000</td>\n",
       "      <td>-0.089213</td>\n",
       "      <td>-0.375882</td>\n",
       "      <td>-0.396475</td>\n",
       "      <td>-0.357750</td>\n",
       "      <td>-0.195546</td>\n",
       "      <td>0.043107</td>\n",
       "      <td>0.010544</td>\n",
       "    </tr>\n",
       "    <tr>\n",
       "      <th>WindDirection</th>\n",
       "      <td>-0.089213</td>\n",
       "      <td>1.000000</td>\n",
       "      <td>0.115920</td>\n",
       "      <td>0.129707</td>\n",
       "      <td>0.165509</td>\n",
       "      <td>0.115421</td>\n",
       "      <td>0.059315</td>\n",
       "      <td>0.104321</td>\n",
       "    </tr>\n",
       "    <tr>\n",
       "      <th>WindSpeed</th>\n",
       "      <td>-0.375882</td>\n",
       "      <td>0.115920</td>\n",
       "      <td>1.000000</td>\n",
       "      <td>0.962423</td>\n",
       "      <td>0.596290</td>\n",
       "      <td>0.229138</td>\n",
       "      <td>-0.107430</td>\n",
       "      <td>-0.113912</td>\n",
       "    </tr>\n",
       "    <tr>\n",
       "      <th>Gust</th>\n",
       "      <td>-0.396475</td>\n",
       "      <td>0.129707</td>\n",
       "      <td>0.962423</td>\n",
       "      <td>1.000000</td>\n",
       "      <td>0.685953</td>\n",
       "      <td>0.336726</td>\n",
       "      <td>-0.150474</td>\n",
       "      <td>-0.128344</td>\n",
       "    </tr>\n",
       "    <tr>\n",
       "      <th>WaveHeight</th>\n",
       "      <td>-0.357750</td>\n",
       "      <td>0.165509</td>\n",
       "      <td>0.596290</td>\n",
       "      <td>0.685953</td>\n",
       "      <td>1.000000</td>\n",
       "      <td>0.828473</td>\n",
       "      <td>-0.153461</td>\n",
       "      <td>-0.118605</td>\n",
       "    </tr>\n",
       "    <tr>\n",
       "      <th>WavePeriod</th>\n",
       "      <td>-0.195546</td>\n",
       "      <td>0.115421</td>\n",
       "      <td>0.229138</td>\n",
       "      <td>0.336726</td>\n",
       "      <td>0.828473</td>\n",
       "      <td>1.000000</td>\n",
       "      <td>-0.115536</td>\n",
       "      <td>-0.073571</td>\n",
       "    </tr>\n",
       "    <tr>\n",
       "      <th>AirTemperature</th>\n",
       "      <td>0.043107</td>\n",
       "      <td>0.059315</td>\n",
       "      <td>-0.107430</td>\n",
       "      <td>-0.150474</td>\n",
       "      <td>-0.153461</td>\n",
       "      <td>-0.115536</td>\n",
       "      <td>1.000000</td>\n",
       "      <td>0.857187</td>\n",
       "    </tr>\n",
       "    <tr>\n",
       "      <th>SeaTemperature</th>\n",
       "      <td>0.010544</td>\n",
       "      <td>0.104321</td>\n",
       "      <td>-0.113912</td>\n",
       "      <td>-0.128344</td>\n",
       "      <td>-0.118605</td>\n",
       "      <td>-0.073571</td>\n",
       "      <td>0.857187</td>\n",
       "      <td>1.000000</td>\n",
       "    </tr>\n",
       "  </tbody>\n",
       "</table>\n",
       "</div>"
      ],
      "text/plain": [
       "                     AtmosphericPressure  WindDirection  WindSpeed      Gust  \\\n",
       "AtmosphericPressure             1.000000      -0.089213  -0.375882 -0.396475   \n",
       "WindDirection                  -0.089213       1.000000   0.115920  0.129707   \n",
       "WindSpeed                      -0.375882       0.115920   1.000000  0.962423   \n",
       "Gust                           -0.396475       0.129707   0.962423  1.000000   \n",
       "WaveHeight                     -0.357750       0.165509   0.596290  0.685953   \n",
       "WavePeriod                     -0.195546       0.115421   0.229138  0.336726   \n",
       "AirTemperature                  0.043107       0.059315  -0.107430 -0.150474   \n",
       "SeaTemperature                  0.010544       0.104321  -0.113912 -0.128344   \n",
       "\n",
       "                     WaveHeight  WavePeriod  AirTemperature  SeaTemperature  \n",
       "AtmosphericPressure   -0.357750   -0.195546        0.043107        0.010544  \n",
       "WindDirection          0.165509    0.115421        0.059315        0.104321  \n",
       "WindSpeed              0.596290    0.229138       -0.107430       -0.113912  \n",
       "Gust                   0.685953    0.336726       -0.150474       -0.128344  \n",
       "WaveHeight             1.000000    0.828473       -0.153461       -0.118605  \n",
       "WavePeriod             0.828473    1.000000       -0.115536       -0.073571  \n",
       "AirTemperature        -0.153461   -0.115536        1.000000        0.857187  \n",
       "SeaTemperature        -0.118605   -0.073571        0.857187        1.000000  "
      ]
     },
     "execution_count": 22,
     "metadata": {},
     "output_type": "execute_result"
    }
   ],
   "source": [
    "X_train.corr()"
   ]
  },
  {
   "cell_type": "code",
   "execution_count": 23,
   "metadata": {},
   "outputs": [
    {
     "data": {
      "image/png": "[encoded data removed]",
      "text/plain": [
       "<Figure size 864x720 with 2 Axes>"
      ]
     },
     "metadata": {
      "needs_background": "light"
     },
     "output_type": "display_data"
    }
   ],
   "source": [
    "import seaborn as sns\n",
    "plt.figure(figsize=(12,10))\n",
    "cor=X_train.corr()\n",
    "sns.heatmap(cor, annot=True, cmap=plt.cm.CMRmap_r)\n",
    "plt.show()"
   ]
  },
  {
   "cell_type": "code",
   "execution_count": 24,
   "metadata": {},
   "outputs": [],
   "source": [
    "def correlation(dataset, threshold):\n",
    "    col_corr = set()\n",
    "    corr_matrix = dataset.corr()\n",
    "    for i in range(len(corr_matrix.columns)):\n",
    "        for j in range(i):\n",
    "            if (corr_matrix.iloc[i,j]) > threshold:\n",
    "                colname = corr_matrix.columns[i]\n",
    "                col_corr.add(colname)\n",
    "    return col_corr"
   ]
  },
  {
   "cell_type": "code",
   "execution_count": 25,
   "metadata": {},
   "outputs": [],
   "source": [
    "corr_features = correlation(X_train, 0.8)\n",
    "# len(set(corr_features))"
   ]
  },
  {
   "cell_type": "code",
   "execution_count": 26,
   "metadata": {},
   "outputs": [
    {
     "data": {
      "text/plain": [
       "{'Gust', 'SeaTemperature', 'WavePeriod'}"
      ]
     },
     "execution_count": 26,
     "metadata": {},
     "output_type": "execute_result"
    }
   ],
   "source": [
    "corr_features"
   ]
  },
  {
   "cell_type": "code",
   "execution_count": 27,
   "metadata": {},
   "outputs": [],
   "source": [
    "# X_train = X_train.drop(corr_features, axis = 1)\n",
    "# X_test= X_test.drop(corr_features, axis = 1)\n",
    "X = X.drop(corr_features, axis=1)"
   ]
  },
  {
   "cell_type": "markdown",
   "metadata": {},
   "source": [
    "# Linear Regression"
   ]
  },
  {
   "cell_type": "code",
   "execution_count": 28,
   "metadata": {},
   "outputs": [
    {
     "name": "stdout",
     "output_type": "stream",
     "text": [
      "[-69.71094916 -68.95975775 -69.2228041  -71.86797407 -71.93259795]\n"
     ]
    },
    {
     "data": {
      "text/plain": [
       "LinearRegression()"
      ]
     },
     "execution_count": 28,
     "metadata": {},
     "output_type": "execute_result"
    }
   ],
   "source": [
    "from sklearn.model_selection import cross_val_score\n",
    "from sklearn.linear_model import LinearRegression\n",
    "\n",
    "linear_regressor = LinearRegression()\n",
    "mse = cross_val_score(linear_regressor, X_train, y_train, scoring='neg_mean_squared_error', cv=5)\n",
    "mean_nse = np.mean(mse)\n",
    "print(mse)\n",
    "linear_regressor.fit(X_train, y_train)"
   ]
  },
  {
   "cell_type": "code",
   "execution_count": 29,
   "metadata": {},
   "outputs": [],
   "source": [
    "prediction_linear = linear_regressor.predict(X_test)"
   ]
  },
  {
   "cell_type": "code",
   "execution_count": 30,
   "metadata": {
    "scrolled": true
   },
   "outputs": [
    {
     "name": "stdout",
     "output_type": "stream",
     "text": [
      "R2 score:  0.29903178112023243\n",
      "RMSE:  8.377219866157082\n",
      "Mean absolute error:  6.803441083141764\n"
     ]
    }
   ],
   "source": [
    "from sklearn.metrics import r2_score\n",
    "from sklearn.metrics import mean_squared_error\n",
    "from sklearn.metrics import mean_absolute_error\n",
    "print('R2 score: ', r2_score(y_test, prediction_linear))\n",
    "print('RMSE: ',  np.sqrt(mean_squared_error(y_test, prediction_linear)))\n",
    "print('Mean absolute error: ', mean_absolute_error(y_test, prediction_linear))"
   ]
  },
  {
   "cell_type": "markdown",
   "metadata": {},
   "source": [
    "# Ridge Regression"
   ]
  },
  {
   "cell_type": "code",
   "execution_count": 31,
   "metadata": {},
   "outputs": [
    {
     "data": {
      "text/plain": [
       "GridSearchCV(cv=5, estimator=Ridge(),\n",
       "             param_grid={'alpha': [0.0001, 0.001, 0.01, 0.1, 1, 5, 10, 50,\n",
       "                                   100]},\n",
       "             scoring='neg_mean_squared_error')"
      ]
     },
     "execution_count": 31,
     "metadata": {},
     "output_type": "execute_result"
    }
   ],
   "source": [
    "from sklearn.linear_model import Ridge\n",
    "from sklearn.model_selection import GridSearchCV\n",
    "\n",
    "ridge = Ridge()\n",
    "parameters = {'alpha':[0.0001, 0.001, 0.01, 0.1, 1, 5, 10, 50, 100]}\n",
    "ridge_regressor = GridSearchCV(ridge, parameters, scoring='neg_mean_squared_error', cv=5)\n",
    "ridge_regressor.fit(X_train, y_train)"
   ]
  },
  {
   "cell_type": "code",
   "execution_count": 32,
   "metadata": {
    "scrolled": true
   },
   "outputs": [
    {
     "name": "stdout",
     "output_type": "stream",
     "text": [
      "{'alpha': 5}\n",
      "-70.33881471539979\n"
     ]
    }
   ],
   "source": [
    "print(ridge_regressor.best_params_)\n",
    "print(ridge_regressor.best_score_)"
   ]
  },
  {
   "cell_type": "code",
   "execution_count": 33,
   "metadata": {},
   "outputs": [],
   "source": [
    "prediction_ridge = ridge_regressor.predict(X_test)"
   ]
  },
  {
   "cell_type": "code",
   "execution_count": 34,
   "metadata": {
    "scrolled": true
   },
   "outputs": [
    {
     "name": "stdout",
     "output_type": "stream",
     "text": [
      "R2 score for ridge regression:  0.29903407292680684\n",
      "RMSE for ridge regression:  8.377206171539594\n",
      "Mean absolute error for ridge regression:  6.803491075363002\n"
     ]
    }
   ],
   "source": [
    "print('R2 score for ridge regression: ', r2_score(y_test, prediction_ridge))\n",
    "print('RMSE for ridge regression: ',  np.sqrt(mean_squared_error(y_test, prediction_ridge)))\n",
    "print('Mean absolute error for ridge regression: ', mean_absolute_error(y_test, prediction_ridge))"
   ]
  },
  {
   "cell_type": "markdown",
   "metadata": {},
   "source": [
    "# Lasso Regression"
   ]
  },
  {
   "cell_type": "code",
   "execution_count": 35,
   "metadata": {},
   "outputs": [
    {
     "name": "stdout",
     "output_type": "stream",
     "text": [
      "{'alpha': 0.0001}\n",
      "-70.33881674978252\n"
     ]
    }
   ],
   "source": [
    "from sklearn.linear_model import Lasso\n",
    "lasso = Lasso()\n",
    "parameters = {'alpha':[0.0001, 0.001, 0.01, 0.1, 1, 5, 10, 50, 100]}\n",
    "lasso_regressor = GridSearchCV(lasso, parameters, scoring = 'neg_mean_squared_error', cv=5)\n",
    "lasso_regressor.fit(X_train,y_train)\n",
    "print(lasso_regressor.best_params_)\n",
    "print(lasso_regressor.best_score_)"
   ]
  },
  {
   "cell_type": "code",
   "execution_count": 36,
   "metadata": {},
   "outputs": [],
   "source": [
    "prediction_lasso = lasso_regressor.predict(X_test)"
   ]
  },
  {
   "cell_type": "code",
   "execution_count": 37,
   "metadata": {},
   "outputs": [
    {
     "data": {
      "text/plain": [
       "<seaborn.axisgrid.FacetGrid at 0x285d92d7a00>"
      ]
     },
     "execution_count": 37,
     "metadata": {},
     "output_type": "execute_result"
    },
    {
     "data": {
      "image/png": "[encoded data removed]",
      "text/plain": [
       "<Figure size 360x360 with 1 Axes>"
      ]
     },
     "metadata": {
      "needs_background": "light"
     },
     "output_type": "display_data"
    }
   ],
   "source": [
    "import seaborn as sns\n",
    "sns.displot(y_test-prediction_lasso)"
   ]
  },
  {
   "cell_type": "code",
   "execution_count": 38,
   "metadata": {},
   "outputs": [
    {
     "data": {
      "text/plain": [
       "<seaborn.axisgrid.FacetGrid at 0x285dd93c940>"
      ]
     },
     "execution_count": 38,
     "metadata": {},
     "output_type": "execute_result"
    },
    {
     "data": {
      "image/png": "[encoded data removed]",
      "text/plain": [
       "<Figure size 360x360 with 1 Axes>"
      ]
     },
     "metadata": {
      "needs_background": "light"
     },
     "output_type": "display_data"
    }
   ],
   "source": [
    "sns.displot(y_test-prediction_ridge)"
   ]
  },
  {
   "cell_type": "code",
   "execution_count": 39,
   "metadata": {},
   "outputs": [
    {
     "name": "stdout",
     "output_type": "stream",
     "text": [
      "R2 score for lasso:  0.29903097336318796\n",
      "RMSE for lasso:  8.377224692878343\n",
      "Mean_absolute_error:  6.803455087934127\n"
     ]
    }
   ],
   "source": [
    "from sklearn.metrics import r2_score, mean_squared_error\n",
    "print('R2 score for lasso: ', r2_score(y_test, prediction_lasso))\n",
    "print('RMSE for lasso: ',  np.sqrt(mean_squared_error(y_test, prediction_lasso)))\n",
    "print('Mean_absolute_error: ', mean_absolute_error(y_test, prediction_lasso))"
   ]
  },
  {
   "cell_type": "code",
   "execution_count": 40,
   "metadata": {},
   "outputs": [
    {
     "data": {
      "text/plain": [
       "(34474, 5)"
      ]
     },
     "execution_count": 40,
     "metadata": {},
     "output_type": "execute_result"
    }
   ],
   "source": [
    "X.shape"
   ]
  },
  {
   "cell_type": "code",
   "execution_count": 41,
   "metadata": {},
   "outputs": [],
   "source": [
    "for cols in X.columns:\n",
    "    X[cols] = pd.to_numeric(X[cols])"
   ]
  },
  {
   "cell_type": "markdown",
   "metadata": {},
   "source": [
    "# Cross Validation Plots"
   ]
  },
  {
   "cell_type": "code",
   "execution_count": 42,
   "metadata": {},
   "outputs": [],
   "source": [
    "from sklearn.model_selection import KFold\n",
    "mean_error=[]\n",
    "std_error=[]\n",
    "C_range = [0.0001, 0.001, 0.01, 0.1, 1, 5, 10, 50, 100]\n",
    "for c in C_range:\n",
    "    model = Lasso(alpha = 1/(2*c))\n",
    "    temp=[]\n",
    "    kf = KFold(n_splits = 5)\n",
    "    for train, test in kf.split(X):\n",
    "        model.fit(X.iloc[train], y.iloc[train])\n",
    "        y_predict = model.predict(X.iloc[test])\n",
    "        temp.append(mean_squared_error(y.iloc[test],y_predict))\n",
    "    mean_error.append(np.array(temp).mean())\n",
    "    std_error.append(np.array(temp).std())"
   ]
  },
  {
   "cell_type": "code",
   "execution_count": 43,
   "metadata": {
    "scrolled": true
   },
   "outputs": [
    {
     "data": {
      "image/png": "[encoded data removed]",
      "text/plain": [
       "<Figure size 432x288 with 1 Axes>"
      ]
     },
     "metadata": {
      "needs_background": "light"
     },
     "output_type": "display_data"
    }
   ],
   "source": [
    "plt.errorbar(C_range, mean_error, yerr=std_error)\n",
    "plt.xlabel('C')\n",
    "plt.ylabel('mean square error')\n",
    "plt.title('Mean square error vc C for Lasso model')\n",
    "plt.xlim(0,50)\n",
    "plt.show()"
   ]
  },
  {
   "cell_type": "code",
   "execution_count": 44,
   "metadata": {},
   "outputs": [],
   "source": [
    "from sklearn.model_selection import KFold\n",
    "mean_error1=[]\n",
    "std_error1=[]\n",
    "C_range = [0.0001, 0.001, 0.01, 0.1, 1, 5, 10, 50, 100]\n",
    "for c in C_range:\n",
    "    model = Ridge(alpha = 1/(2*c))\n",
    "    temp=[]\n",
    "    kf = KFold(n_splits = 5)\n",
    "    for train, test in kf.split(X):\n",
    "        model.fit(X.iloc[train], y.iloc[train])\n",
    "        y_predict = model.predict(X.iloc[test])\n",
    "        temp.append(mean_squared_error(y.iloc[test],y_predict))\n",
    "    mean_error1.append(np.array(temp).mean())\n",
    "    std_error1.append(np.array(temp).std())"
   ]
  },
  {
   "cell_type": "code",
   "execution_count": 45,
   "metadata": {},
   "outputs": [
    {
     "data": {
      "image/png": "[encoded data removed]",
      "text/plain": [
       "<Figure size 432x288 with 1 Axes>"
      ]
     },
     "metadata": {
      "needs_background": "light"
     },
     "output_type": "display_data"
    }
   ],
   "source": [
    "plt.errorbar(C_range, mean_error1, yerr=std_error1)\n",
    "plt.xlabel('C')\n",
    "plt.ylabel('Mean Square Error')\n",
    "plt.title('Mean square error vc C for Ridge model')\n",
    "plt.xlim(0,15)\n",
    "plt.show()"
   ]
  },
  {
   "cell_type": "code",
   "execution_count": 46,
   "metadata": {
    "scrolled": true
   },
   "outputs": [
    {
     "data": {
      "text/html": [
       "<div>\n",
       "<style scoped>\n",
       "    .dataframe tbody tr th:only-of-type {\n",
       "        vertical-align: middle;\n",
       "    }\n",
       "\n",
       "    .dataframe tbody tr th {\n",
       "        vertical-align: top;\n",
       "    }\n",
       "\n",
       "    .dataframe thead th {\n",
       "        text-align: right;\n",
       "    }\n",
       "</style>\n",
       "<table border=\"1\" class=\"dataframe\">\n",
       "  <thead>\n",
       "    <tr style=\"text-align: right;\">\n",
       "      <th></th>\n",
       "      <th>AtmosphericPressure</th>\n",
       "      <th>WindDirection</th>\n",
       "      <th>WindSpeed</th>\n",
       "      <th>Gust</th>\n",
       "      <th>WaveHeight</th>\n",
       "      <th>WavePeriod</th>\n",
       "      <th>AirTemperature</th>\n",
       "      <th>SeaTemperature</th>\n",
       "    </tr>\n",
       "  </thead>\n",
       "  <tbody>\n",
       "    <tr>\n",
       "      <th>69874</th>\n",
       "      <td>1016.467</td>\n",
       "      <td>207.0</td>\n",
       "      <td>18.073</td>\n",
       "      <td>22.912</td>\n",
       "      <td>1.875</td>\n",
       "      <td>4.688</td>\n",
       "      <td>14.790</td>\n",
       "      <td>14.185</td>\n",
       "    </tr>\n",
       "    <tr>\n",
       "      <th>60245</th>\n",
       "      <td>1029.614</td>\n",
       "      <td>328.0</td>\n",
       "      <td>12.096</td>\n",
       "      <td>15.085</td>\n",
       "      <td>0.781</td>\n",
       "      <td>3.281</td>\n",
       "      <td>13.594</td>\n",
       "      <td>15.278</td>\n",
       "    </tr>\n",
       "    <tr>\n",
       "      <th>63220</th>\n",
       "      <td>1000.234</td>\n",
       "      <td>53.0</td>\n",
       "      <td>22.770</td>\n",
       "      <td>28.234</td>\n",
       "      <td>2.656</td>\n",
       "      <td>5.859</td>\n",
       "      <td>9.458</td>\n",
       "      <td>9.375</td>\n",
       "    </tr>\n",
       "    <tr>\n",
       "      <th>28985</th>\n",
       "      <td>1022.290</td>\n",
       "      <td>82.0</td>\n",
       "      <td>10.246</td>\n",
       "      <td>14.373</td>\n",
       "      <td>0.703</td>\n",
       "      <td>3.867</td>\n",
       "      <td>8.296</td>\n",
       "      <td>9.058</td>\n",
       "    </tr>\n",
       "    <tr>\n",
       "      <th>69326</th>\n",
       "      <td>1023.132</td>\n",
       "      <td>292.0</td>\n",
       "      <td>10.531</td>\n",
       "      <td>13.662</td>\n",
       "      <td>1.406</td>\n",
       "      <td>5.273</td>\n",
       "      <td>8.979</td>\n",
       "      <td>11.826</td>\n",
       "    </tr>\n",
       "  </tbody>\n",
       "</table>\n",
       "</div>"
      ],
      "text/plain": [
       "       AtmosphericPressure  WindDirection  WindSpeed    Gust  WaveHeight  \\\n",
       "69874             1016.467          207.0     18.073  22.912       1.875   \n",
       "60245             1029.614          328.0     12.096  15.085       0.781   \n",
       "63220             1000.234           53.0     22.770  28.234       2.656   \n",
       "28985             1022.290           82.0     10.246  14.373       0.703   \n",
       "69326             1023.132          292.0     10.531  13.662       1.406   \n",
       "\n",
       "       WavePeriod  AirTemperature  SeaTemperature  \n",
       "69874       4.688          14.790          14.185  \n",
       "60245       3.281          13.594          15.278  \n",
       "63220       5.859           9.458           9.375  \n",
       "28985       3.867           8.296           9.058  \n",
       "69326       5.273           8.979          11.826  "
      ]
     },
     "execution_count": 46,
     "metadata": {},
     "output_type": "execute_result"
    }
   ],
   "source": [
    "X_train.head()"
   ]
  },
  {
   "cell_type": "markdown",
   "metadata": {},
   "source": [
    "# Elastic regression"
   ]
  },
  {
   "cell_type": "code",
   "execution_count": 47,
   "metadata": {
    "scrolled": true
   },
   "outputs": [
    {
     "name": "stderr",
     "output_type": "stream",
     "text": [
      "c:\\users\\chitransh\\appdata\\local\\programs\\python\\python38\\lib\\site-packages\\sklearn\\model_selection\\_search.py:765: UserWarning: With alpha=0, this algorithm does not converge well. You are advised to use the LinearRegression estimator\n",
      "  self.best_estimator_.fit(X, y, **fit_params)\n",
      "c:\\users\\chitransh\\appdata\\local\\programs\\python\\python38\\lib\\site-packages\\sklearn\\linear_model\\_coordinate_descent.py:529: UserWarning: Coordinate descent with no regularization may lead to unexpected results and is discouraged.\n",
      "  model = cd_fast.enet_coordinate_descent(\n"
     ]
    },
    {
     "name": "stdout",
     "output_type": "stream",
     "text": [
      "MAE: -6.817\n",
      "Config: {'alpha': 0.0, 'l1_ratio': 0.0}\n"
     ]
    },
    {
     "name": "stderr",
     "output_type": "stream",
     "text": [
      "c:\\users\\chitransh\\appdata\\local\\programs\\python\\python38\\lib\\site-packages\\sklearn\\linear_model\\_coordinate_descent.py:529: ConvergenceWarning: Objective did not converge. You might want to increase the number of iterations. Duality gap: 969521.4083888003, tolerance: 280.9404325520486\n",
      "  model = cd_fast.enet_coordinate_descent(\n"
     ]
    }
   ],
   "source": [
    "from sklearn.linear_model import ElasticNet\n",
    "from sklearn.model_selection import RepeatedKFold\n",
    "from numpy import arange\n",
    "# define model\n",
    "model = ElasticNet()\n",
    "# define model evaluation method\n",
    "cv = RepeatedKFold(n_splits=10, n_repeats=3, random_state=1)\n",
    "# define grid\n",
    "grid = dict()\n",
    "grid['alpha'] = [1e-5, 1e-4, 1e-3, 1e-2, 1e-1, 0.0, 1.0, 10.0, 100.0]\n",
    "grid['l1_ratio'] = arange(0, 1, 0.01)\n",
    "# define search\n",
    "search = GridSearchCV(model, grid, scoring='neg_mean_absolute_error', cv=cv, n_jobs=-1)\n",
    "# perform the search\n",
    "results = search.fit(X_train, y_train)\n",
    "# summarize\n",
    "print('MAE: %.3f' % results.best_score_)\n",
    "print('Config: %s' % results.best_params_)"
   ]
  },
  {
   "cell_type": "code",
   "execution_count": 48,
   "metadata": {},
   "outputs": [],
   "source": [
    "prediction_elastic = results.predict(X_test)\n",
    "# print(prediction_elastic)"
   ]
  },
  {
   "cell_type": "code",
   "execution_count": 49,
   "metadata": {},
   "outputs": [
    {
     "name": "stdout",
     "output_type": "stream",
     "text": [
      "R2 score for lasso:  0.29903178112023243\n",
      "RMSE for lasso:  8.377219866157082\n",
      "Mean_absolute_error:  6.803441083141765\n"
     ]
    }
   ],
   "source": [
    "print('R2 score for lasso: ', r2_score(y_test, prediction_elastic))\n",
    "print('RMSE for lasso: ',  np.sqrt(mean_squared_error(y_test, prediction_elastic)))\n",
    "print('Mean_absolute_error: ', mean_absolute_error(y_test, prediction_elastic))"
   ]
  },
  {
   "cell_type": "code",
   "execution_count": null,
   "metadata": {},
   "outputs": [],
   "source": []
  }
 ],
 "metadata": {
  "kernelspec": {
   "display_name": "Python 3",
   "language": "python",
   "name": "python3"
  },
  "language_info": {
   "codemirror_mode": {
    "name": "ipython",
    "version": 3
   },
   "file_extension": ".py",
   "mimetype": "text/x-python",
   "name": "python",
   "nbconvert_exporter": "python",
   "pygments_lexer": "ipython3",
   "version": "3.8.0"
  }
 },
 "nbformat": 4,
 "nbformat_minor": 4
}
